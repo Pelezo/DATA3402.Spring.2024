{
 "cells": [
  {
   "cell_type": "markdown",
   "metadata": {},
   "source": [
    "# Lab 5\n"
   ]
  },
  {
   "cell_type": "markdown",
   "metadata": {},
   "source": [
    "Matrix Representation: In this lab you will be creating a simple linear algebra system. In memory, we will represent matrices as nested python lists as we have done in lecture. \n",
    "\n",
    "1. Create a `matrix` class with the following properties:\n",
    "    * It can be initialized in 2 ways:\n",
    "        1. with arguments `n` and `m`, the size of the matrix. A newly instanciated matrix will contain all zeros.\n",
    "        2. with a list of lists of values. Note that since we are using lists of lists to implement matrices, it is possible that not all rows have the same number of columns. Test explicitly that the matrix is properly specified.\n",
    "    * Matrix instances `M` can be indexed with `M[i][j]` and `M[i,j]`.\n",
    "    * Matrix assignment works in 2 ways:\n",
    "        1. If `M_1` and `M_2` are `matrix` instances `M_1=M_2` sets the values of `M_1` to those of `M_2`, if they are the same size. Error otherwise.\n",
    "        2. In example above `M_2` can be a list of lists of correct size.\n"
   ]
  },
  {
   "cell_type": "markdown",
   "metadata": {},
   "source": [
    "2. Add the following methods:\n",
    "    * `shape()`: returns a tuple `(n,m)` of the shape of the matrix.\n",
    "    * `transpose()`: returns a new matrix instance which is the transpose of the matrix.\n",
    "    * `row(n)` and `column(n)`: that return the nth row or column of the matrix M as a new appropriately shaped matrix object.\n",
    "    * `to_list()`: which returns the matrix as a list of lists.\n",
    "    *  `block(n_0,n_1,m_0,m_1)` that returns a smaller matrix located at the n_0 to n_1 columns and m_0 to m_1 rows. \n",
    "    * (Extra credit) Modify `__getitem__` implemented above to support slicing.\n",
    "        "
   ]
  },
  {
   "cell_type": "markdown",
   "metadata": {},
   "source": [
    "3. Write functions that create special matrices (note these are standalone functions, not member functions of your `matrix` class):\n",
    "    * `constant(n,m,c)`: returns a `n` by `m` matrix filled with floats of value `c`.\n",
    "    * `zeros(n,m)` and `ones(n,m)`: return `n` by `m` matrices filled with floats of value `0` and `1`, respectively.\n",
    "    * `eye(n)`: returns the n by n identity matrix."
   ]
  },
  {
   "cell_type": "markdown",
   "metadata": {},
   "source": [
    "4. Add the following member functions to your class. Make sure to appropriately test the dimensions of the matrices to make sure the operations are correct.\n",
    "    * `M.scalarmul(c)`: a matrix that is scalar product $cM$, where every element of $M$ is multiplied by $c$.\n",
    "    * `M.add(N)`: adds two matrices $M$ and $N$. Don’t forget to test that the sizes of the matrices are compatible for this and all other operations.\n",
    "    * `M.sub(N)`: subtracts two matrices $M$ and $N$.\n",
    "    * `M.mat_mult(N)`: returns a matrix that is the matrix product of two matrices $M$ and $N$.\n",
    "    * `M.element_mult(N)`: returns a matrix that is the element-wise product of two matrices $M$ and $N$.\n",
    "    * `M.equals(N)`: returns true/false if $M==N$."
   ]
  },
  {
   "cell_type": "markdown",
   "metadata": {},
   "source": [
    "5. Overload python operators to appropriately use your functions in 4 and allow expressions like:\n",
    "    * 2*M\n",
    "    * M*2\n",
    "    * M+N\n",
    "    * M-N\n",
    "    * M*N\n",
    "    * M==N\n",
    "    * M=N\n"
   ]
  },
  {
   "cell_type": "markdown",
   "metadata": {},
   "source": [
    "6. Demonstrate the basic properties of matrices with your matrix class by creating two 2 by 2 example matrices using your Matrix class and illustrating the following:\n",
    "\n",
    "$$\n",
    "(AB)C=A(BC)\n",
    "$$\n",
    "$$\n",
    "A(B+C)=AB+AC\n",
    "$$\n",
    "$$\n",
    "AB\\neq BA\n",
    "$$\n",
    "$$\n",
    "AI=A\n",
    "$$"
   ]
  },
  {
   "cell_type": "code",
   "execution_count": 73,
   "metadata": {
    "tags": []
   },
   "outputs": [],
   "source": [
    "##1\n",
    "class Matrix:\n",
    "    def __init__(self, n=None, m=None, values=None):\n",
    "        \n",
    "        #Initialize a matrix.\n",
    "        if values:\n",
    "            # Initialize from provided values\n",
    "            self.matrix = values\n",
    "        elif n and m:\n",
    "            # Initialize with zeros\n",
    "            self.matrix = [[0] * m for _ in range(n)]\n",
    "        else:\n",
    "            raise ValueError(\"Matrix must be initialized with either dimensions (n, m) or values.\")\n",
    "\n",
    "    def __getitem__(self, key):\n",
    "         ##Get the value at the specified index.\n",
    "\n",
    "        i, j = key\n",
    "        return self.matrix[i][j]\n",
    "\n",
    "    def __setitem__(self, key, value):\n",
    "        ##Set the value at the specified index.\n",
    "\n",
    "        i, j = key\n",
    "        self.matrix[i][j] = value\n",
    "\n",
    "    def __eq__(self, other):\n",
    "        \n",
    "        ##Check if two matrices are equal.\n",
    "\n",
    "        return self.matrix == other.matrix\n",
    "\n",
    "    def __repr__(self):\n",
    "        \n",
    "    ##Return a string representation of the matrix.\n",
    "\n",
    "        return \"\\n\".join(\" \".join(str(val) for val in row) for row in self.matrix)\n"
   ]
  },
  {
   "cell_type": "code",
   "execution_count": 74,
   "metadata": {
    "tags": []
   },
   "outputs": [
    {
     "name": "stdout",
     "output_type": "stream",
     "text": [
      "Matrix M_1:\n",
      "0 0 0 0\n",
      "0 0 0 0\n",
      "0 0 0 0\n",
      "\n",
      "Matrix M_2:\n",
      "1 2 3\n",
      "4 5 6\n",
      "7 8 9\n",
      "\n",
      "M_2[1][2] = 6\n",
      "\n",
      "M_2 == M3: True\n"
     ]
    }
   ],
   "source": [
    "# Testing solution\n",
    "if __name__ == \"__main__\":\n",
    "    # Initialize a 3x4 matrix with zeros\n",
    "    M_1 = Matrix(n=3, m=4)\n",
    "    print(\"Matrix M_1:\")\n",
    "    print(M_1)\n",
    "\n",
    "    # Initialize a matrix with  values\n",
    "    values = [[1, 2, 3], [4, 5, 6], [7, 8, 9]]\n",
    "    M_2 = Matrix(values=values)\n",
    "    print(\"\\nMatrix M_2:\")\n",
    "    print(M_2)\n",
    "\n",
    "    # Test indexing\n",
    "    print(\"\\nM_2[1][2] =\", M_2[1, 2])\n",
    "\n",
    "    # Test equality\n",
    "    M_3 = Matrix(values=values)\n",
    "    print(\"\\nM_2 == M3:\", M_2 == M_3)"
   ]
  },
  {
   "cell_type": "code",
   "execution_count": 75,
   "metadata": {
    "tags": []
   },
   "outputs": [],
   "source": [
    "##2\n",
    "class Matrix:\n",
    "    def __init__(self, data):\n",
    "        self.data=data\n",
    "##This function shows the shape of the matrix by printing the size of it\n",
    "    def shape(self):\n",
    "        return len(self.data), len(self.data[0])\n",
    "## this is the transpose function\n",
    "    def transpose(self):\n",
    "        return Matrix([[self.data[j][i] for j in range (len(self.data))] for i in range (len(self.data[0]))])\n",
    "##The row of the data\n",
    "    def row (self,n):\n",
    "        return Matrix([self.data[n]])\n",
    "##The column of the data\n",
    "    def column(self,n):\n",
    "        return Matrix ([[self.data[i][n]] for i in range(len(self.data))])\n",
    "##This returns the entire list of numbers in the data\n",
    "    def to_list(self):\n",
    "        return self.data\n",
    "    def block(self, n_0,n_1,m_0,m_1):\n",
    "        return Matrix ([row[n_0:n_1] for row in self.data[m_0:m_1]])\n",
    "    def __getitem__(self,key):\n",
    "        if isinstance (key,tuple):\n",
    "          rows,cols=key\n",
    "          return Matrix([row[cols] for row in self.data[rows]])\n",
    "        else:\n",
    "          return matrix([self.data[key]])\n",
    "                       "
   ]
  },
  {
   "cell_type": "code",
   "execution_count": 76,
   "metadata": {
    "tags": []
   },
   "outputs": [],
   "source": [
    "## testing solution\n",
    "if __name__== \"__main__\":\n",
    "    matrix_data=[[1,2,3],\n",
    "    [4,5,6],[7,8,9]]\n",
    "    m=Matrix(matrix_data)\n",
    "\n",
    "    \n",
    "    "
   ]
  },
  {
   "cell_type": "code",
   "execution_count": 77,
   "metadata": {
    "tags": []
   },
   "outputs": [
    {
     "name": "stdout",
     "output_type": "stream",
     "text": [
      "(3, 3)\n"
     ]
    }
   ],
   "source": [
    "print(m.shape())"
   ]
  },
  {
   "cell_type": "code",
   "execution_count": 78,
   "metadata": {
    "tags": []
   },
   "outputs": [
    {
     "data": {
      "text/plain": [
       "[[1, 4, 7], [2, 5, 8], [3, 6, 9]]"
      ]
     },
     "execution_count": 78,
     "metadata": {},
     "output_type": "execute_result"
    }
   ],
   "source": [
    "## transposed matrix\n",
    "m.transpose().to_list()"
   ]
  },
  {
   "cell_type": "code",
   "execution_count": 79,
   "metadata": {},
   "outputs": [
    {
     "data": {
      "text/plain": [
       "[[4, 5, 6]]"
      ]
     },
     "execution_count": 79,
     "metadata": {},
     "output_type": "execute_result"
    }
   ],
   "source": [
    "##Second row, 1 represents row 2\n",
    "m.row(1).to_list()"
   ]
  },
  {
   "cell_type": "code",
   "execution_count": 80,
   "metadata": {},
   "outputs": [
    {
     "data": {
      "text/plain": [
       "[[2], [5], [8]]"
      ]
     },
     "execution_count": 80,
     "metadata": {},
     "output_type": "execute_result"
    }
   ],
   "source": [
    "## Second column. 1 reprents 2\n",
    "m.column(1).to_list()"
   ]
  },
  {
   "cell_type": "code",
   "execution_count": 81,
   "metadata": {
    "tags": []
   },
   "outputs": [
    {
     "data": {
      "text/plain": [
       "[[1, 2, 3], [4, 5, 6], [7, 8, 9]]"
      ]
     },
     "execution_count": 81,
     "metadata": {},
     "output_type": "execute_result"
    }
   ],
   "source": [
    "##Matrix as list of lists\n",
    "m.to_list()"
   ]
  },
  {
   "cell_type": "code",
   "execution_count": 82,
   "metadata": {
    "tags": []
   },
   "outputs": [
    {
     "data": {
      "text/plain": [
       "[[5, 6], [8, 9]]"
      ]
     },
     "execution_count": 82,
     "metadata": {},
     "output_type": "execute_result"
    }
   ],
   "source": [
    "m.block(1,3,1,3).to_list()"
   ]
  },
  {
   "cell_type": "code",
   "execution_count": 83,
   "metadata": {
    "tags": []
   },
   "outputs": [
    {
     "data": {
      "text/plain": [
       "[[5], [8]]"
      ]
     },
     "execution_count": 83,
     "metadata": {},
     "output_type": "execute_result"
    }
   ],
   "source": [
    "##Sliced matrix\n",
    "m[1:3,1:2].to_list()"
   ]
  },
  {
   "cell_type": "code",
   "execution_count": 84,
   "metadata": {
    "tags": []
   },
   "outputs": [],
   "source": [
    "##3\n",
    "def constant(n,m,c):\n",
    "    return[[c]*m for _ in range(n)]\n",
    "def zeros(n,m):\n",
    "    return[[0.0]*m for _ in range(n)]\n",
    "def ones(n,m):\n",
    "    return[[1.0]*m for _ in range(n)]\n",
    "def eye(n):\n",
    "    return[[1.0] if i==j else 0.0 for j in range(n) for i in range(n)]\n",
    "\n",
    "    "
   ]
  },
  {
   "cell_type": "code",
   "execution_count": 85,
   "metadata": {
    "tags": []
   },
   "outputs": [],
   "source": [
    "## testing solution\n",
    "if __name__==\"__main__\":\n",
    "    n=4\n",
    "    m=6\n",
    "    c=3.5"
   ]
  },
  {
   "cell_type": "code",
   "execution_count": 86,
   "metadata": {
    "tags": []
   },
   "outputs": [
    {
     "name": "stdout",
     "output_type": "stream",
     "text": [
      "[[3.5, 3.5, 3.5, 3.5, 3.5, 3.5], [3.5, 3.5, 3.5, 3.5, 3.5, 3.5], [3.5, 3.5, 3.5, 3.5, 3.5, 3.5], [3.5, 3.5, 3.5, 3.5, 3.5, 3.5]]\n"
     ]
    }
   ],
   "source": [
    "print(constant(n,m,c))"
   ]
  },
  {
   "cell_type": "code",
   "execution_count": 87,
   "metadata": {
    "tags": []
   },
   "outputs": [
    {
     "name": "stdout",
     "output_type": "stream",
     "text": [
      "[[0.0, 0.0, 0.0, 0.0, 0.0, 0.0], [0.0, 0.0, 0.0, 0.0, 0.0, 0.0], [0.0, 0.0, 0.0, 0.0, 0.0, 0.0], [0.0, 0.0, 0.0, 0.0, 0.0, 0.0]]\n"
     ]
    }
   ],
   "source": [
    "print(zeros(n,m))"
   ]
  },
  {
   "cell_type": "code",
   "execution_count": 88,
   "metadata": {
    "tags": []
   },
   "outputs": [
    {
     "name": "stdout",
     "output_type": "stream",
     "text": [
      "[[1.0, 1.0, 1.0, 1.0, 1.0, 1.0], [1.0, 1.0, 1.0, 1.0, 1.0, 1.0], [1.0, 1.0, 1.0, 1.0, 1.0, 1.0], [1.0, 1.0, 1.0, 1.0, 1.0, 1.0]]\n"
     ]
    }
   ],
   "source": [
    "print(ones(n,m))"
   ]
  },
  {
   "cell_type": "code",
   "execution_count": 89,
   "metadata": {
    "tags": []
   },
   "outputs": [
    {
     "name": "stdout",
     "output_type": "stream",
     "text": [
      "[[1.0], 0.0, 0.0, 0.0, 0.0, [1.0], 0.0, 0.0, 0.0, 0.0, [1.0], 0.0, 0.0, 0.0, 0.0, [1.0]]\n"
     ]
    }
   ],
   "source": [
    "n_id=4\n",
    "print(eye(n_id))"
   ]
  },
  {
   "cell_type": "code",
   "execution_count": 90,
   "metadata": {
    "tags": []
   },
   "outputs": [],
   "source": [
    "## 4\n",
    "class Matrix:\n",
    "    def __init__(self, n=None, m=None, values=None):\n",
    "     #intialize a matrix\n",
    "     if values:\n",
    "            # Initialize from provided values\n",
    "            self.matrix = values\n",
    "     elif n and m:\n",
    "            # Initialize with zeros\n",
    "            self.matrix = [[0] * m for _ in range(n)]\n",
    "     else:\n",
    "            raise ValueError(\"Matrix must be initialized with either dimensions (n, m) or values.\")\n",
    "\n",
    "    def __getitem__(self, key):\n",
    "       ##Get the value at specified index.\n",
    "        i, j = key\n",
    "        return self.matrix[i][j]\n",
    "\n",
    "    def __setitem__(self, key, value):\n",
    "        ##Set value at a specified index\n",
    "        i, j = key\n",
    "        self.matrix[i][j] = value\n",
    "\n",
    "    def __eq__(self, other):\n",
    "\n",
    "      ##Check if two if two matrices are equal\n",
    "        return self.matrix == other.matrix\n",
    "\n",
    "    def __str__(self):\n",
    "\n",
    "\n",
    "        return \"\\n\".join(\" \".join(str(val) for val in row) for row in self.matrix)\n",
    "\n",
    "\n",
    "    def scalarmul(self, c):\n",
    "\n",
    "        result = Matrix(n=len(self.matrix), m=len(self.matrix[0]))\n",
    "        for i in range(len(self.matrix)):\n",
    "            for j in range(len(self.matrix[0])):\n",
    "                result[i, j] = self.matrix[i][j] * c\n",
    "        return result\n",
    "\n",
    "    def add(self, other):\n",
    "\n",
    "        if len(self.matrix) != len(other.matrix) or len(self.matrix[0]) != len(other.matrix[0]):\n",
    "            raise ValueError(\"Matrix dimensions must match for addition.\")\n",
    "        result = Matrix(n=len(self.matrix), m=len(self.matrix[0]))\n",
    "        for i in range(len(self.matrix)):\n",
    "            for j in range(len(self.matrix[0])):\n",
    "                result[i, j] = self.matrix[i][j] + other[i, j]\n",
    "        return result\n",
    "\n",
    "    def sub(self, other):\n",
    "\n",
    "        if len(self.matrix) != len(other.matrix) or len(self.matrix[0]) != len(other.matrix[0]):\n",
    "            raise ValueError(\"Matrix dimensions must match for subtraction.\")\n",
    "        result = Matrix(n=len(self.matrix), m=len(self.matrix[0]))\n",
    "        for i in range(len(self.matrix)):\n",
    "            for j in range(len(self.matrix[0])):\n",
    "                result[i, j] = self.matrix[i][j] - other[i, j]\n",
    "        return result\n",
    "\n",
    "    def mat_mult(self, other):\n",
    "\n",
    "        if len(self.matrix[0]) != len(other.matrix):\n",
    "            raise ValueError(\"Matrix dimensions are incompatible for matrix multiplication.\")\n",
    "        result = Matrix(n=len(self.matrix), m=len(other.matrix[0]))\n",
    "        for i in range(len(self.matrix)):\n",
    "            for j in range(len(other.matrix[0])):\n",
    "                result[i, j] = sum(self.matrix[i][k] * other[k, j] for k in range(len(self.matrix[0])))\n",
    "        return result\n",
    "\n",
    "    def element_mult(self, other):\n",
    "\n",
    "        if len(self.matrix) != len(other.matrix) or len(self.matrix[0]) != len(other.matrix[0]):\n",
    "            raise ValueError(\"Matrix dimensions must match for element-wise multiplication.\")\n",
    "        result = Matrix(n=len(self.matrix), m=len(self.matrix[0]))\n",
    "        for i in range(len(self.matrix)):\n",
    "            for j in range(len(self.matrix[0])):\n",
    "                result[i, j] = self.matrix[i][j] * other[i, j]\n",
    "        return result\n",
    "\n",
    "    def equals(self, other):\n",
    "\n",
    "        return self.matrix == other.matrix"
   ]
  },
  {
   "cell_type": "code",
   "execution_count": 91,
   "metadata": {
    "tags": []
   },
   "outputs": [
    {
     "name": "stdout",
     "output_type": "stream",
     "text": [
      "Scalar multiplication:\n",
      "2 4\n",
      "6 8\n",
      "\n",
      "Matrix addition:\n",
      "6 8\n",
      "10 12\n",
      "Matrix subtraction:\n",
      "-4 -4\n",
      "-4 -4\n",
      "\n",
      "Matrix multiplication:\n",
      "19 22\n",
      "43 50\n"
     ]
    }
   ],
   "source": [
    "# Testing solution\n",
    "if __name__ == \"__main__\":\n",
    "    M = Matrix(values=[[1, 2], [3, 4]])\n",
    "    N = Matrix(values=[[5, 6], [7, 8]])\n",
    "\n",
    "    # Test scalar multiplication\n",
    "    Mat3 = M.scalarmul(2)\n",
    "    print(\"Scalar multiplication:\")\n",
    "    print(Mat3)\n",
    "\n",
    "    # Test matrix addition\n",
    "    Mat4 = M.add(N)\n",
    "    print(\"\\nMatrix addition:\")\n",
    "    print(Mat4)\n",
    "\n",
    "      # Test matrix subtraction\n",
    "    Mat5 = M.sub(N)\n",
    "    print(\"Matrix subtraction:\")\n",
    "    print(Mat5)\n",
    "\n",
    "    # Test matrix multiplication\n",
    "    Mat6 = M.mat_mult(N)\n",
    "    print(\"\\nMatrix multiplication:\")\n",
    "    print(Mat6)"
   ]
  },
  {
   "cell_type": "code",
   "execution_count": 92,
   "metadata": {
    "tags": []
   },
   "outputs": [
    {
     "data": {
      "text/plain": [
       "False"
      ]
     },
     "execution_count": 92,
     "metadata": {},
     "output_type": "execute_result"
    }
   ],
   "source": [
    "##Testing equality \n",
    "M==N"
   ]
  },
  {
   "cell_type": "code",
   "execution_count": 102,
   "metadata": {
    "tags": []
   },
   "outputs": [],
   "source": [
    "## 5\n",
    "class Matrix:\n",
    "    def __init__(self, n=None, m=None, values=None):\n",
    "       if values:\n",
    "            # Initialize from provided values\n",
    "            self.matrix = values\n",
    "       elif n and m:\n",
    "            # Initialize with zeros\n",
    "            self.matrix = [[0] * m for _ in range(n)]\n",
    "       else:\n",
    "            raise ValueError(\"Matrix must be initialized with either dimensions (n, m) or values.\")\n",
    "\n",
    "    def __getitem__(self, key):\n",
    "       ##Get the value at specified index.\n",
    "        i, j = key\n",
    "        return self.matrix[i][j]\n",
    "\n",
    "    def __setitem__(self, key, value):\n",
    "        ##Set value at a specified index\n",
    "        i, j = key\n",
    "        self.matrix[i][j] = value\n",
    "\n",
    "    def __eq__(self, other):\n",
    "\n",
    "      ##Check if two if two matrices are equal\n",
    "        return self.matrix == other.matrix\n",
    "\n",
    "    def __str__(self):\n",
    "\n",
    "\n",
    "        return \"\\n\".join(\" \".join(str(val) for val in row) for row in self.matrix)\n",
    "    def scalarmul(self, c):\n",
    "\n",
    "        result = Matrix(n=len(self.matrix), m=len(self.matrix[0]))\n",
    "        for i in range(len(self.matrix)):\n",
    "            for j in range(len(self.matrix[0])):\n",
    "                result[i, j] = self.matrix[i][j] * c\n",
    "        return result\n",
    "\n",
    "    def add(self, other):\n",
    "\n",
    "        if len(self.matrix) != len(other.matrix) or len(self.matrix[0]) != len(other.matrix[0]):\n",
    "            raise ValueError(\"Matrix dimensions must match for addition.\")\n",
    "        result = Matrix(n=len(self.matrix), m=len(self.matrix[0]))\n",
    "        for i in range(len(self.matrix)):\n",
    "            for j in range(len(self.matrix[0])):\n",
    "                result[i, j] = self.matrix[i][j] + other[i, j]\n",
    "        return result\n",
    "\n",
    "    def sub(self, other):\n",
    "\n",
    "        if len(self.matrix) != len(other.matrix) or len(self.matrix[0]) != len(other.matrix[0]):\n",
    "            raise ValueError(\"Matrix dimensions must match for subtraction.\")\n",
    "        result = Matrix(n=len(self.matrix), m=len(self.matrix[0]))\n",
    "        for i in range(len(self.matrix)):\n",
    "            for j in range(len(self.matrix[0])):\n",
    "                result[i, j] = self.matrix[i][j] - other[i, j]\n",
    "        return result\n",
    "\n",
    "    def mat_mult(self, other):\n",
    "\n",
    "        if len(self.matrix[0]) != len(other.matrix):\n",
    "            raise ValueError(\"Matrix dimensions are incompatible for matrix multiplication.\")\n",
    "        result = Matrix(n=len(self.matrix), m=len(other.matrix[0]))\n",
    "        for i in range(len(self.matrix)):\n",
    "            for j in range(len(other.matrix[0])):\n",
    "                result[i, j] = sum(self.matrix[i][k] * other[k, j] for k in range(len(self.matrix[0])))\n",
    "        return result\n",
    "\n",
    "    def element_mult(self, other):\n",
    "\n",
    "        if len(self.matrix) != len(other.matrix) or len(self.matrix[0]) != len(other.matrix[0]):\n",
    "            raise ValueError(\"Matrix dimensions must match for element-wise multiplication.\")\n",
    "        result = Matrix(n=len(self.matrix), m=len(self.matrix[0]))\n",
    "        for i in range(len(self.matrix)):\n",
    "            for j in range(len(self.matrix[0])):\n",
    "                result[i, j] = self.matrix[i][j] * other[i, j]\n",
    "        return result\n",
    "\n",
    "    def equals(self, other):\n",
    "\n",
    "        return self.matrix == other.matrix\n",
    "## overloading \n",
    "    def __mul__(self, other):\n",
    "        if isinstance(other, int) or isinstance(other, float):\n",
    "            return self.scalarmul(other)\n",
    "        elif isinstance(other, Matrix):\n",
    "            return self.mat_mult(other)\n",
    "        else:\n",
    "            raise TypeError(\"Invalid operand types for matrix multiplication.\")\n",
    "\n",
    "    def __rmul__(self, other):\n",
    "        return self * other\n",
    "\n",
    "    def __add__(self, other):\n",
    "        if isinstance(other, Matrix):\n",
    "            return self.add(other)\n",
    "        else:\n",
    "            raise TypeError(\"Invalid operand types for matrix addition.\")\n",
    "\n",
    "    def __sub__(self, other):\n",
    "        if isinstance(other, Matrix):\n",
    "            return self.sub(other)\n",
    "        else:\n",
    "            raise TypeError(\"Invalid operand types for matrix subtraction.\")\n",
    "\n",
    "    def __eq__(self, other):\n",
    "        if isinstance(other, Matrix):\n",
    "            return self.equals(other)\n",
    "        else:\n",
    "            return False\n",
    "\n",
    "    def __ne__(self, other):\n",
    "        return not self == other\n"
   ]
  },
  {
   "cell_type": "code",
   "execution_count": 104,
   "metadata": {},
   "outputs": [
    {
     "name": "stdout",
     "output_type": "stream",
     "text": [
      "2 * M:\n",
      "2 4\n",
      "6 8\n",
      "\n",
      "M * 2:\n",
      "2 4\n",
      "6 8\n",
      "\n",
      "M + N:\n",
      "6 8\n",
      "10 12\n",
      "\n",
      "M - N:\n",
      "-4 -4\n",
      "-4 -4\n",
      "\n",
      "M * N:\n",
      "19 22\n",
      "43 50\n",
      "\n",
      "M == N:\n",
      "False\n",
      "\n",
      "M != N:\n",
      "True\n"
     ]
    }
   ],
   "source": [
    "# Testing solution\n",
    "if __name__ == \"__main__\":\n",
    "    M = Matrix(values=[[1, 2], [3, 4]])\n",
    "    N = Matrix(values=[[5, 6], [7, 8]])\n",
    "\n",
    "    # Test operator overloading\n",
    "\n",
    "    print(\"2 * M:\")\n",
    "    print(2 * M)\n",
    "\n",
    "    print(\"\\nM * 2:\")\n",
    "    print(M * 2)\n",
    "\n",
    "    print(\"\\nM + N:\")\n",
    "    print(M + N)\n",
    "\n",
    "    print(\"\\nM - N:\")\n",
    "    print(M - N)\n",
    "\n",
    "    print(\"\\nM * N:\")\n",
    "    print(M * N)\n",
    "\n",
    "    print(\"\\nM == N:\")\n",
    "    print(M == N)\n",
    "\n",
    "    print(\"\\nM != N:\")\n",
    "    print(M != N)\n"
   ]
  },
  {
   "cell_type": "code",
   "execution_count": 103,
   "metadata": {
    "tags": []
   },
   "outputs": [
    {
     "name": "stdout",
     "output_type": "stream",
     "text": [
      "(AB)C:\n",
      "413 454\n",
      "937 1030\n",
      "\n",
      "A(BC):\n",
      "413 454\n",
      "937 1030\n",
      "\n",
      "A(B+C):\n",
      "50 56\n",
      "114 128\n",
      "\n",
      "AB+AC:\n",
      "50 56\n",
      "114 128\n",
      "\n",
      "AB≠BA:\n",
      "19 22\n",
      "43 50\n",
      "23 34\n",
      "31 46\n",
      "\n",
      "AI=A:\n",
      "1 2\n",
      "3 4\n",
      "1 2\n",
      "3 4\n"
     ]
    }
   ],
   "source": [
    "## 6\n",
    "A = Matrix(values=[[1, 2], [3, 4]])\n",
    "B = Matrix(values=[[5, 6], [7, 8]])\n",
    "C = Matrix(values=[[9, 10], [11, 12]])\n",
    "\n",
    "# Identity matrix\n",
    "I = Matrix(values=[[1, 0], [0, 1]])\n",
    "\n",
    "# (AB)C\n",
    "print(\"(AB)C:\")\n",
    "print((A * B) * C)\n",
    "\n",
    "# A(BC)\n",
    "print(\"\\nA(BC):\")\n",
    "print(A * (B * C))\n",
    "\n",
    "# A(B+C)\n",
    "print(\"\\nA(B+C):\")\n",
    "print(A * (B + C))\n",
    "\n",
    "# AB+AC\n",
    "print(\"\\nAB+AC:\")\n",
    "print(A * B + A * C)\n",
    "\n",
    "# AB≠BA\n",
    "print(\"\\nAB≠BA:\")\n",
    "print(A * B)\n",
    "print(B * A)\n",
    "\n",
    "# AI=A\n",
    "print(\"\\nAI=A:\")\n",
    "print(A * I)\n",
    "print(A)"
   ]
  }
 ],
 "metadata": {
  "kernelspec": {
   "display_name": "Python 3 (ipykernel)",
   "language": "python",
   "name": "python3"
  },
  "language_info": {
   "codemirror_mode": {
    "name": "ipython",
    "version": 3
   },
   "file_extension": ".py",
   "mimetype": "text/x-python",
   "name": "python",
   "nbconvert_exporter": "python",
   "pygments_lexer": "ipython3",
   "version": "3.9.6"
  }
 },
 "nbformat": 4,
 "nbformat_minor": 4
}
