{
 "cells": [
  {
   "cell_type": "markdown",
   "metadata": {},
   "source": [
    "# Lab 4- Object Oriented Programming\n",
    "\n",
    "For all of the exercises below, make sure you provide tests of your solutions.\n"
   ]
  },
  {
   "cell_type": "markdown",
   "metadata": {},
   "source": [
    "1. Write a \"counter\" class that can be incremented up to a specified maximum value, will print an error if an attempt is made to increment beyond that value, and allows reseting the counter. "
   ]
  },
  {
   "cell_type": "code",
   "execution_count": 44,
   "metadata": {
    "tags": []
   },
   "outputs": [],
   "source": [
    "class counter:\n",
    "    def __init__(self,max_value):\n",
    "        self.counter=0\n",
    "        self.max_value=max_value\n",
    "\n",
    "    def increment(self):\n",
    "        if self.counter< self.max_value:\n",
    "            self.counter +=1\n",
    "        else:\n",
    "            print (\"Error value has reached max value\")\n",
    "\n",
    "    def reset(self):\n",
    "        self.counter=0\n",
    "\n",
    "    def get_counterV(self):\n",
    "        return self.counter\n",
    "\n",
    "    def get_max_value(self):\n",
    "        return self.max_value\n",
    "\n",
    "    def it_reached_max(self):\n",
    "        return self.counter==self.max_value\n"
   ]
  },
  {
   "cell_type": "code",
   "execution_count": 45,
   "metadata": {
    "tags": []
   },
   "outputs": [
    {
     "name": "stdout",
     "output_type": "stream",
     "text": [
      "Current value:1\n"
     ]
    }
   ],
   "source": [
    "max_value=10\n",
    "my_count=counter(max_value)\n",
    "my_count.increment()\n",
    "\n",
    "print(f\"Current value:{my_count.get_counterV()}\")"
   ]
  },
  {
   "cell_type": "code",
   "execution_count": 46,
   "metadata": {
    "tags": []
   },
   "outputs": [
    {
     "name": "stdout",
     "output_type": "stream",
     "text": [
      " Current Value:2\n"
     ]
    }
   ],
   "source": [
    "my_count.increment()\n",
    "print(f\" Current Value:{my_count.get_counterV()}\")"
   ]
  },
  {
   "cell_type": "code",
   "execution_count": 47,
   "metadata": {
    "tags": []
   },
   "outputs": [
    {
     "name": "stdout",
     "output_type": "stream",
     "text": [
      " Current Value After reset:0\n"
     ]
    }
   ],
   "source": [
    "my_count.reset()\n",
    "print(f\" Current Value After reset:{my_count.get_counterV()}\")"
   ]
  },
  {
   "cell_type": "markdown",
   "metadata": {},
   "source": [
    "2. Copy and paste your solution to question 1 and modify it so that all the data held by the counter is private. Implement functions to check the value of the counter, check the maximum value, and check if the counter is at the maximum."
   ]
  },
  {
   "cell_type": "code",
   "execution_count": 48,
   "metadata": {
    "tags": []
   },
   "outputs": [],
   "source": [
    "class Privatecounter:\n",
    "    def __init__(self,max_value):\n",
    "        self.__counter=0\n",
    "        self.__max_value=max_value\n",
    "\n",
    "    def increment(self):\n",
    "        if self.__counter< self.__max_value:\n",
    "            self.__counter +=1\n",
    "        else:\n",
    "            print (\"Error value has reached max value\")\n",
    "\n",
    "    def reset(self):\n",
    "        self.__counter=0\n",
    "\n",
    "    def get_counterV(self):\n",
    "        return self.__counter\n",
    "\n",
    "    def get_max_value(self):\n",
    "        return self.__max_value\n",
    "\n",
    "    def it_reached_max(self):\n",
    "        return self.__counter==self.__max_value\n"
   ]
  },
  {
   "cell_type": "code",
   "execution_count": 49,
   "metadata": {
    "tags": []
   },
   "outputs": [
    {
     "name": "stdout",
     "output_type": "stream",
     "text": [
      "Current value: 1\n"
     ]
    }
   ],
   "source": [
    "max_value = 10\n",
    "my_count = Privatecounter(max_value)\n",
    "my_count.increment()\n",
    "\n",
    "print(f\"Current value: {my_count.get_counterV()}\")"
   ]
  },
  {
   "cell_type": "markdown",
   "metadata": {},
   "source": [
    "3. Implement a class to represent a rectangle, holding the length, width, and $x$ and $y$ coordinates of a corner of the object. Implement functions that compute the area and perimeter of the rectangle. Make all data members private and privide accessors to retrieve values of data members. "
   ]
  },
  {
   "cell_type": "code",
   "execution_count": 50,
   "metadata": {
    "tags": []
   },
   "outputs": [],
   "source": [
    "class Rectangle:\n",
    "    def __init__(self,length,width,x,y,):\n",
    "        self.__length=length\n",
    "        self.__width=width\n",
    "        self.__x=x\n",
    "        self.__y=y\n",
    "    ##Accessors and getters\n",
    "    def get_length(self):\n",
    "        return self.__length\n",
    "    def get_width(self):\n",
    "        return self.__width\n",
    "    def get_x(self):\n",
    "        return self.__x\n",
    "    def get_y(self):\n",
    "        return self.__y\n",
    "    def area(self):\n",
    "        return self.__length*self.__width\n",
    "    \n",
    "    def perimeter(self):\n",
    "        return 2 * (self.__length+ self.__width)\n",
    "        "
   ]
  },
  {
   "cell_type": "code",
   "execution_count": 51,
   "metadata": {
    "tags": []
   },
   "outputs": [
    {
     "data": {
      "text/plain": [
       "15"
      ]
     },
     "execution_count": 51,
     "metadata": {},
     "output_type": "execute_result"
    }
   ],
   "source": [
    "rectangle=Rectangle(length=5,width=3,x=0,y=0)\n",
    "rectangle.area()"
   ]
  },
  {
   "cell_type": "code",
   "execution_count": 52,
   "metadata": {
    "tags": []
   },
   "outputs": [
    {
     "data": {
      "text/plain": [
       "16"
      ]
     },
     "execution_count": 52,
     "metadata": {},
     "output_type": "execute_result"
    }
   ],
   "source": [
    "rectangle.perimeter()"
   ]
  },
  {
   "cell_type": "markdown",
   "metadata": {},
   "source": [
    "4. Implement a class to represent a circle, holding the radius and $x$ and $y$ coordinates of center of the object. Implement functions that compute the area and perimeter of the rectangle. Make all data members private and privide accessors to retrieve values of data members. "
   ]
  },
  {
   "cell_type": "code",
   "execution_count": 53,
   "metadata": {
    "tags": []
   },
   "outputs": [],
   "source": [
    "import math\n",
    "class circle:\n",
    "    def __init__(self,radius,x,y):\n",
    "        self.__radius=radius\n",
    "        self.__center_x=x\n",
    "        self.__center_y=y\n",
    "    ##Accessors and getters\n",
    "    def get_radius(self):\n",
    "        return self.__radius\n",
    "    def get_x(self):\n",
    "        return self.__center_x\n",
    "    def get_y(self):\n",
    "        return self.__center_y\n",
    "    def area(self):\n",
    "        return math.pi* self.__radius**2\n",
    "        \n",
    "    def perimeter(self):\n",
    "        return 2*math.pi*self.__radius"
   ]
  },
  {
   "cell_type": "code",
   "execution_count": 54,
   "metadata": {
    "tags": []
   },
   "outputs": [
    {
     "data": {
      "text/plain": [
       "50.26548245743669"
      ]
     },
     "execution_count": 54,
     "metadata": {},
     "output_type": "execute_result"
    }
   ],
   "source": [
    "Circle=circle(radius=4,x=2,y=3)\n",
    "Circle.area()"
   ]
  },
  {
   "cell_type": "code",
   "execution_count": 55,
   "metadata": {
    "tags": []
   },
   "outputs": [
    {
     "data": {
      "text/plain": [
       "25.132741228718345"
      ]
     },
     "execution_count": 55,
     "metadata": {},
     "output_type": "execute_result"
    }
   ],
   "source": [
    "Circle.perimeter()"
   ]
  },
  {
   "cell_type": "markdown",
   "metadata": {},
   "source": [
    "5. Implement a common base class for the classes implemented in 3 and 4 above which implements all common methods as not implemented functions (virtual). Re-implement those classes to inherit from the base class and overload the functions accordingly. "
   ]
  },
  {
   "cell_type": "code",
   "execution_count": 56,
   "metadata": {
    "tags": []
   },
   "outputs": [],
   "source": [
    "class Shape:\n",
    "  def __init__(self):\n",
    "    pass\n",
    "  def area_(self):\n",
    "    raise NotImplementedError\n",
    "  def perimeter(self):\n",
    "    raise NotImplementedError"
   ]
  },
  {
   "cell_type": "code",
   "execution_count": 57,
   "metadata": {
    "tags": []
   },
   "outputs": [],
   "source": [
    "class Rectangle(Shape):\n",
    "    def __init__(self,length,width,x,y,):\n",
    "        self.__length=length\n",
    "        self.__width=width\n",
    "        self.__x=x\n",
    "        self.__y=y\n",
    "    ##Accessors and getters\n",
    "    def get_length(self):\n",
    "        return self.__length\n",
    "    def get_width(self):\n",
    "        return self.__width\n",
    "    def get_x(self):\n",
    "        return self.__x\n",
    "    def get_y(self):\n",
    "        return self.__y\n",
    "    def area(self):\n",
    "        return self.__length*self.__width\n",
    "    \n",
    "    def perimeter(self):\n",
    "        return 2 * (self.__length+ self.__width)"
   ]
  },
  {
   "cell_type": "code",
   "execution_count": 58,
   "metadata": {
    "tags": []
   },
   "outputs": [],
   "source": [
    "class circle(Shape):\n",
    "    def __init__(self,radius,x,y):\n",
    "        self.__radius=radius\n",
    "        self.___center_x=x\n",
    "        self.___center_y=y\n",
    "    ##Accessors and getters\n",
    "    def get_radius(self):\n",
    "        return self.__radius\n",
    "    def get_x(self):\n",
    "        return self.__center_x\n",
    "    def get_y(self):\n",
    "        return self.__center_y\n",
    "    def area(self):\n",
    "        return math.pi* self.__radius**2\n",
    "        \n",
    "    def perimeter(self):\n",
    "        return 2*math.pi*self.__radius"
   ]
  },
  {
   "cell_type": "code",
   "execution_count": null,
   "metadata": {},
   "outputs": [],
   "source": []
  },
  {
   "cell_type": "markdown",
   "metadata": {},
   "source": [
    "6. Implement an analogous triangle class."
   ]
  },
  {
   "cell_type": "code",
   "execution_count": 59,
   "metadata": {
    "tags": []
   },
   "outputs": [],
   "source": [
    "class triangle(Shape):\n",
    "  def __init__(self,base,height):\n",
    "     self.base=base\n",
    "     self.height=height\n",
    "  def area(self):\n",
    "    return 0.5*self.base*self.height\n",
    "  def perimeter(self):\n",
    "    raise NotImplementedError"
   ]
  },
  {
   "cell_type": "code",
   "execution_count": 60,
   "metadata": {
    "tags": []
   },
   "outputs": [
    {
     "data": {
      "text/plain": [
       "16.0"
      ]
     },
     "execution_count": 60,
     "metadata": {},
     "output_type": "execute_result"
    }
   ],
   "source": [
    "Triangle=triangle(base=4,height=8)\n",
    "Triangle.area()"
   ]
  },
  {
   "cell_type": "markdown",
   "metadata": {},
   "source": [
    "7.Add a function to the object classes, including the base, that returns a list of up to 16 pairs of x and y\n",
    " points on the parameter of the object."
   ]
  },
  {
   "cell_type": "code",
   "execution_count": 61,
   "metadata": {
    "tags": []
   },
   "outputs": [],
   "source": [
    "class Shape:\n",
    "  def __init__(self):\n",
    "    pass\n",
    "  def area_(self):\n",
    "    raise NotImplementedError\n",
    "  def perimeter(self):\n",
    "    raise NotImplementedError\n",
    "  def perimeter_points(self,n_points=16):\n",
    "    raise NotImplementedError"
   ]
  },
  {
   "cell_type": "markdown",
   "metadata": {},
   "source": [
    "8. Add a function to the object classes, including the base, that tests if a given set of x and y coordinates are inside of the object. You'll have to think through how to determine if a set of coordinates are inside an object for each object type.\n",
    "\n"
   ]
  },
  {
   "cell_type": "code",
   "execution_count": 62,
   "metadata": {
    "tags": []
   },
   "outputs": [],
   "source": [
    "def is_point_in(self,x,y):\n",
    "  raise NotImplementedError\n",
    "class Rectangle(Shape):\n",
    "    def __init__(self,length,width,x,y,):\n",
    "        self.__length=length\n",
    "        self.__width=width\n",
    "        self.__x=x\n",
    "        self.__y=y\n",
    "    def perimeter_points(self,n_points=16):\n",
    "        return[(self.__x+i*self.__length/n_points,self.__y)for i in range(n_points)]\n",
    "    def is_point_in(self,x,y):\n",
    "        return self.__x <= x <= self.__x+self.__length and self.__y <=y <= self.__y + self.__width\n",
    "class circle(Shape):\n",
    "    def __init__(self,radius,x,y):\n",
    "        self.__radius=radius\n",
    "        self.__center_x=x\n",
    "        self.__center_y=y\n",
    "    def perimeter_points(self,n_points=16):\n",
    "        increment=2*math.pi/n_points\n",
    "        return [(self.__center_x +self.__radius* math.cos(i* increment),\n",
    "                self.__center_y+self.__radius*math.sin(i*increment))\n",
    "                for i in range(n_points)]\n",
    "    def is_point_in(self,x,y):\n",
    "        return math.sqrt((x-self.__center_x)**2+(y-self.__center_y)**2)<=self.__radius\n",
    "    "
   ]
  },
  {
   "cell_type": "code",
   "execution_count": 63,
   "metadata": {
    "tags": []
   },
   "outputs": [
    {
     "data": {
      "text/plain": [
       "[(0.0, 0),\n",
       " (0.3125, 0),\n",
       " (0.625, 0),\n",
       " (0.9375, 0),\n",
       " (1.25, 0),\n",
       " (1.5625, 0),\n",
       " (1.875, 0),\n",
       " (2.1875, 0),\n",
       " (2.5, 0),\n",
       " (2.8125, 0),\n",
       " (3.125, 0),\n",
       " (3.4375, 0),\n",
       " (3.75, 0),\n",
       " (4.0625, 0),\n",
       " (4.375, 0),\n",
       " (4.6875, 0)]"
      ]
     },
     "execution_count": 63,
     "metadata": {},
     "output_type": "execute_result"
    }
   ],
   "source": [
    "###testing the solution\n",
    "rect=Rectangle(length=5,width=3,x=0,y=0)\n",
    "rect.perimeter_points()"
   ]
  },
  {
   "cell_type": "code",
   "execution_count": 64,
   "metadata": {
    "tags": []
   },
   "outputs": [
    {
     "data": {
      "text/plain": [
       "True"
      ]
     },
     "execution_count": 64,
     "metadata": {},
     "output_type": "execute_result"
    }
   ],
   "source": [
    "rect.is_point_in(2,1)"
   ]
  },
  {
   "cell_type": "code",
   "execution_count": 65,
   "metadata": {
    "tags": []
   },
   "outputs": [
    {
     "data": {
      "text/plain": [
       "True"
      ]
     },
     "execution_count": 65,
     "metadata": {},
     "output_type": "execute_result"
    }
   ],
   "source": [
    "rect.is_point_in(5,1)"
   ]
  },
  {
   "cell_type": "code",
   "execution_count": 66,
   "metadata": {
    "tags": []
   },
   "outputs": [
    {
     "data": {
      "text/plain": [
       "[(4.0, 0.0),\n",
       " (3.695518130045147, 1.5307337294603591),\n",
       " (2.8284271247461903, 2.82842712474619),\n",
       " (1.5307337294603593, 3.695518130045147),\n",
       " (2.4492935982947064e-16, 4.0),\n",
       " (-1.530733729460359, 3.695518130045147),\n",
       " (-2.82842712474619, 2.8284271247461903),\n",
       " (-3.695518130045147, 1.5307337294603596),\n",
       " (-4.0, 4.898587196589413e-16),\n",
       " (-3.6955181300451474, -1.5307337294603587),\n",
       " (-2.8284271247461907, -2.82842712474619),\n",
       " (-1.5307337294603613, -3.695518130045146),\n",
       " (-7.347880794884119e-16, -4.0),\n",
       " (1.53073372946036, -3.6955181300451465),\n",
       " (2.8284271247461894, -2.8284271247461907),\n",
       " (3.695518130045146, -1.5307337294603616)]"
      ]
     },
     "execution_count": 66,
     "metadata": {},
     "output_type": "execute_result"
    }
   ],
   "source": [
    "circ=circle(radius=4,x=0,y=0)\n",
    "circ.perimeter_points()"
   ]
  },
  {
   "cell_type": "code",
   "execution_count": 67,
   "metadata": {
    "tags": []
   },
   "outputs": [
    {
     "data": {
      "text/plain": [
       "True"
      ]
     },
     "execution_count": 67,
     "metadata": {},
     "output_type": "execute_result"
    }
   ],
   "source": [
    "circ.is_point_in(x=0,y=0)"
   ]
  },
  {
   "cell_type": "code",
   "execution_count": 68,
   "metadata": {
    "tags": []
   },
   "outputs": [
    {
     "data": {
      "text/plain": [
       "False"
      ]
     },
     "execution_count": 68,
     "metadata": {},
     "output_type": "execute_result"
    }
   ],
   "source": [
    "circ.is_point_in(x=5,y=4)"
   ]
  },
  {
   "cell_type": "markdown",
   "metadata": {},
   "source": [
    "9.Add a function in the base class of the object classes that returns true/false testing that the object overlaps with another object.\n",
    "\n"
   ]
  },
  {
   "cell_type": "code",
   "execution_count": 69,
   "metadata": {
    "tags": []
   },
   "outputs": [],
   "source": [
    "class Shape:\n",
    "    def __init__(self,x,y,width,height):\n",
    "        self.x=x\n",
    "        self.y=y\n",
    "        self.width=width\n",
    "        self.height=height\n",
    "    def overlaps(self,other):\n",
    "        self_left=self.x\n",
    "        self_right=self.x+self.width\n",
    "        self_top=self.y\n",
    "        self_bottom=self.y+self.height\n",
    "        \n",
    "        other_left=other.x\n",
    "        other_right=other.x+other.width\n",
    "        other_top=other.y\n",
    "        other_bottom=other.y+other.height\n",
    "        \n",
    "        if(self_left<other_right and self_right>other_left and self_top<other_bottom and\n",
    "           self_bottom>other_top):\n",
    "            return True\n",
    "        else:\n",
    "            return False\n",
    "       "
   ]
  },
  {
   "cell_type": "code",
   "execution_count": 70,
   "metadata": {
    "tags": []
   },
   "outputs": [],
   "source": [
    "object1=Shape(x=0,y=0,width=10,height=10)\n",
    "object2=Shape(x=5,y=5,width=10,height=10)"
   ]
  },
  {
   "cell_type": "code",
   "execution_count": 71,
   "metadata": {
    "tags": []
   },
   "outputs": [
    {
     "data": {
      "text/plain": [
       "True"
      ]
     },
     "execution_count": 71,
     "metadata": {},
     "output_type": "execute_result"
    }
   ],
   "source": [
    "object1.overlaps(object2)"
   ]
  },
  {
   "cell_type": "markdown",
   "metadata": {},
   "source": [
    "10. Copy the `Canvas` class from lecture to in a python file creating a `paint` module. Copy your classes from above into the module and implement paint functions. Implement a `CompoundShape` class. Create a simple drawing demonstrating that all of your classes are working."
   ]
  },
  {
   "cell_type": "code",
   "execution_count": 103,
   "metadata": {
    "tags": []
   },
   "outputs": [],
   "source": [
    "import Canvas as c\n",
    "class Paint:\n",
    "    def __init__(self,canvas):\n",
    "        self.canvas = canvas\n",
    "\n",
    "    def draw_circle(self, center_x, center_y, radius, **kargs):\n",
    "        for x in range(center_x - radius, center_x + radius + 1):\n",
    "            for y in range(center_y - radius, center_y + radius + 1):\n",
    "                if (x - center_x) ** 2 + (y - center_y) ** 2 <= radius ** 2:\n",
    "                    self.canvas.set_pixel(x, y, **kargs)\n",
    "\n",
    "    def draw_rectangle(self, x1, y1, x2, y2, **kargs):\n",
    "        self.canvas.h_line(x1, y1, x2 - x1, **kargs)\n",
    "        self.canvas.h_line(x1, y2, x2 - x1, **kargs)\n",
    "        self.canvas.v_line(x1, y1, y2 - y1, **kargs)\n",
    "        self.canvas.v_line(x2, y1, y2 - y1, **kargs)\n",
    "\n",
    "class CompoundShape(c.Canvas):\n",
    "    def __init__(self, canvas):\n",
    "        super().__init__(canvas.width, canvas.height)\n",
    "        self.shapes = []\n",
    "\n",
    "    def add_shape(self, shape):\n",
    "        self.shapes.append(shape)\n",
    "\n",
    "    def display(self):\n",
    "        for shape in self.shapes:\n",
    "            shape.display()\n"
   ]
  },
  {
   "cell_type": "code",
   "execution_count": 106,
   "metadata": {
    "tags": []
   },
   "outputs": [
    {
     "ename": "AttributeError",
     "evalue": "'Paint' object has no attribute 'display'",
     "output_type": "error",
     "traceback": [
      "\u001b[0;31m---------------------------------------------------------------------------\u001b[0m",
      "\u001b[0;31mAttributeError\u001b[0m                            Traceback (most recent call last)",
      "Cell \u001b[0;32mIn[106], line 14\u001b[0m\n\u001b[1;32m     11\u001b[0m compound_shape\u001b[38;5;241m.\u001b[39madd_shape(paint)\n\u001b[1;32m     12\u001b[0m compound_shape\u001b[38;5;241m.\u001b[39madd_shape(c\u001b[38;5;241m.\u001b[39mCanvas(\u001b[38;5;241m10\u001b[39m, \u001b[38;5;241m5\u001b[39m))\n\u001b[0;32m---> 14\u001b[0m \u001b[43mcompound_shape\u001b[49m\u001b[38;5;241;43m.\u001b[39;49m\u001b[43mdisplay\u001b[49m\u001b[43m(\u001b[49m\u001b[43m)\u001b[49m\n",
      "Cell \u001b[0;32mIn[103], line 28\u001b[0m, in \u001b[0;36mCompoundShape.display\u001b[0;34m(self)\u001b[0m\n\u001b[1;32m     26\u001b[0m \u001b[38;5;28;01mdef\u001b[39;00m \u001b[38;5;21mdisplay\u001b[39m(\u001b[38;5;28mself\u001b[39m):\n\u001b[1;32m     27\u001b[0m     \u001b[38;5;28;01mfor\u001b[39;00m shape \u001b[38;5;129;01min\u001b[39;00m \u001b[38;5;28mself\u001b[39m\u001b[38;5;241m.\u001b[39mshapes:\n\u001b[0;32m---> 28\u001b[0m         \u001b[43mshape\u001b[49m\u001b[38;5;241;43m.\u001b[39;49m\u001b[43mdisplay\u001b[49m()\n",
      "\u001b[0;31mAttributeError\u001b[0m: 'Paint' object has no attribute 'display'"
     ]
    }
   ],
   "source": [
    "\n",
    "canvas = c.Canvas(50, 25)\n",
    "paint = Paint(canvas)\n",
    "\n",
    "paint.draw_circle(25, 12, 10, char='O')\n",
    "paint.draw_circle(2, 1, 1, char='O')\n",
    "paint.draw_rectangle(10, 5, 20, 15, char='X')\n",
    "compound_shape = CompoundShape(canvas)\n",
    "compound_shape.add_shape(paint)\n",
    "compound_shape.add_shape(c.Canvas(10, 5))\n",
    "\n",
    "compound_shape.display()"
   ]
  },
  {
   "cell_type": "code",
   "execution_count": null,
   "metadata": {},
   "outputs": [],
   "source": []
  },
  {
   "cell_type": "code",
   "execution_count": null,
   "metadata": {},
   "outputs": [],
   "source": []
  },
  {
   "cell_type": "markdown",
   "metadata": {},
   "source": [
    "11. Create a `RasterDrawing` class. Demonstrate that you can create a drawing made of several shapes, paint the drawing, modify the drawing, and paint it again. "
   ]
  },
  {
   "cell_type": "code",
   "execution_count": null,
   "metadata": {},
   "outputs": [],
   "source": [
    " class RasterDrawing:\n",
    "    def __init__(self, width, height):\n",
    "        self.width = width\n",
    "        self.height = height\n",
    "        self.canvas = [[' ' for _ in range(width)] for _ in range(height)]\n",
    "\n",
    "    def draw_point(self, x, y, char='*'):\n",
    "        if 0 <= x < self.width and 0 <= y < self.height:\n",
    "            self.canvas[y][x] = char\n",
    "\n",
    "    def draw_line(self, x1, y1, x2, y2, char='*'):\n",
    "        dx = abs(x2 - x1)\n",
    "        dy = abs(y2 - y1)\n",
    "        sx = 1 if x1 < x2 else -1\n",
    "        sy = 1 if y1 < y2 else -1\n",
    "        err = dx - dy\n",
    "\n",
    "        while True:\n",
    "            self.draw_point(x1, y1, char)\n",
    "            if x1 == x2 and y1 == y2:\n",
    "                break\n",
    "            e2 = 2 * err\n",
    "            if e2 > -dy:\n",
    "                err -= dy\n",
    "                x1 += sx\n",
    "            if e2 < dx:\n",
    "                err += dx\n",
    "                y1 += sy\n",
    "\n",
    "    def draw_rectangle(self, x1, y1, x2, y2, char='*'):\n",
    "        self.draw_line(x1, y1, x2, y1, char)\n",
    "        self.draw_line(x1, y1, x1, y2, char)\n",
    "        self.draw_line(x2, y1, x2, y2, char)\n",
    "        self.draw_line(x1, y2, x2, y2, char)\n",
    "\n",
    "    def draw_circle(self, cx, cy, r, char='*'):\n",
    "        x = r\n",
    "        y = 0\n",
    "        err = 0\n",
    "\n",
    "        while x >= y:\n",
    "            self.draw_point(cx + x, cy + y, char)\n",
    "            self.draw_point(cx + y, cy + x, char)\n",
    "            self.draw_point(cx - y, cy + x, char)\n",
    "            self.draw_point(cx - x, cy + y, char)\n",
    "            self.draw_point(cx - x, cy - y, char)\n",
    "            self.draw_point(cx - y, cy - x, char)\n",
    "            self.draw_point(cx + y, cy - x, char)\n",
    "            self.draw_point(cx + x, cy - y, char)\n",
    "\n",
    "            if err <= 0:\n",
    "                y += 1\n",
    "                err += 2 * y + 1\n",
    "            if err > 0:\n",
    "                x -= 1\n",
    "                err -= 2 * x + 1\n",
    "\n",
    "    def display(self):\n",
    "        for row in self.canvas:\n",
    "            print(''.join(row))\n",
    "\n",
    "class CompoundShape:\n",
    "    def __init__(self):\n",
    "        self.shapes = []\n",
    "\n",
    "    def add_shape(self, shape):\n",
    "        self.shapes.append(shape)\n",
    "\n",
    "    def draw(self, canvas):\n",
    "        for shape in self.shapes:\n",
    "            shape.draw(canvas)\n",
    "\n",
    "class Rectangle(CompoundShape):\n",
    "    def __init__(self, x1, y1, x2, y2):\n",
    "        super().__init__()\n",
    "        self.x1 = x1\n",
    "        self.y1 = y1\n",
    "        self.x2 = x2\n",
    "        self.y2 = y2\n",
    "\n",
    "    def draw(self, canvas):\n",
    "        canvas.draw_rectangle(self.x1, self.y1, self.x2, self.y2)\n",
    "\n",
    "class Circle(CompoundShape):\n",
    "    def __init__(self, cx, cy, r):\n",
    "        super().__init__()\n",
    "        self.cx = cx\n",
    "        self.cy = cy\n",
    "        self.r = r\n",
    "\n",
    "    def draw(self, canvas):\n",
    "        canvas.draw_circle(self.cx, self.cy, self.r)"
   ]
  },
  {
   "cell_type": "code",
   "execution_count": 110,
   "metadata": {
    "tags": []
   },
   "outputs": [
    {
     "name": "stdout",
     "output_type": "stream",
     "text": [
      "                    \n",
      "          *         \n",
      "  ***************** \n",
      "  *     *   *     * \n",
      "  *    *     *    * \n",
      "  *   *       *   * \n",
      "  *    *     *    * \n",
      "  *     *   *     * \n",
      "  ***************** \n",
      "          *         \n",
      "                    \n",
      "               *    \n",
      "  ***************** \n",
      "  *          *   ** \n",
      "  *         *     * \n",
      "  *        *      **\n",
      "  *         *     * \n",
      "  *          *   ** \n",
      "  ***************** \n",
      "               *    \n"
     ]
    }
   ],
   "source": [
    "if __name__ == '__main__':\n",
    "    # Create a drawing\n",
    "    drawing = RasterDrawing(20, 10)\n",
    "\n",
    "    # Add shapes to the drawing\n",
    "    compound_shape = CompoundShape()\n",
    "    compound_shape.add_shape(Rectangle(2, 2, 18, 8))\n",
    "    compound_shape.add_shape(Circle(10, 5, 4))\n",
    "\n",
    "    # Paint the drawing\n",
    "    compound_shape.draw(drawing)\n",
    "    drawing.display()\n",
    "\n",
    "    # Modify the drawing by moving the circle\n",
    "    compound_shape.shapes[1].cx += 5\n",
    "\n",
    "    # Paint the drawing again\n",
    "    drawing.canvas = [[' ' for _ in range(drawing.width)] for _ in range(drawing.height)]\n",
    "    compound_shape.draw(drawing)\n",
    "    drawing.display()\n"
   ]
  },
  {
   "cell_type": "markdown",
   "metadata": {},
   "source": [
    "12. Implement the ability to load/save raster drawings and demonstate that your method works. One way to implement this ability:\n",
    "\n",
    "   * Overload `__repr__` functions of all objects to return strings of the python code that would construct the object.\n",
    "   \n",
    "   * In the save method of raster drawing class, store the representations into the file.\n",
    "   * Write a loader function that reads the file and uses `eval` to instantiate the object.\n",
    "\n",
    "For example:"
   ]
  },
  {
   "cell_type": "code",
   "execution_count": null,
   "metadata": {},
   "outputs": [],
   "source": [
    "class foo:\n",
    "    def __init__(self,a,b=None):\n",
    "        self.a=a\n",
    "        self.b=b\n",
    "        \n",
    "    def __repr__(self):\n",
    "        return \"foo(\"+repr(self.a)+\",\"+repr(self.b)+\")\"\n",
    "    \n",
    "    def save(self,filename):\n",
    "        f=open(filename,\"w\")\n",
    "        f.write(self.__repr__())\n",
    "        f.close()\n",
    "        \n",
    "   \n",
    "def foo_loader(filename):\n",
    "    f=open(filename,\"r\")\n",
    "    tmp=eval(f.read())\n",
    "    f.close()\n",
    "    return tmp\n"
   ]
  },
  {
   "cell_type": "code",
   "execution_count": null,
   "metadata": {},
   "outputs": [],
   "source": [
    "# Test\n",
    "print(repr(foo(1,\"hello\")))"
   ]
  },
  {
   "cell_type": "code",
   "execution_count": null,
   "metadata": {},
   "outputs": [],
   "source": [
    "# Create an object and save it\n",
    "ff=foo(1,\"hello\")\n",
    "ff.save(\"Test.foo\")"
   ]
  },
  {
   "cell_type": "code",
   "execution_count": null,
   "metadata": {},
   "outputs": [],
   "source": [
    "# Check contents of the saved file\n",
    "!cat Test.foo"
   ]
  },
  {
   "cell_type": "code",
   "execution_count": null,
   "metadata": {},
   "outputs": [],
   "source": [
    "# Load the object\n",
    "ff_reloaded=foo_loader(\"Test.foo\")\n",
    "ff_reloaded"
   ]
  },
  {
   "cell_type": "code",
   "execution_count": 108,
   "metadata": {},
   "outputs": [],
   "source": [
    "class RasterDrawing:\n",
    "    def __init__(self, width, height):\n",
    "        self.width = width\n",
    "        self.height = height\n",
    "        self.canvas = [[' ' for _ in range(width)] for _ in range(height)]\n",
    "\n",
    "    def draw_point(self, x, y, char='*'):\n",
    "        if 0 <= x < self.width and 0 <= y < self.height:\n",
    "            self.canvas[y][x] = char\n",
    "\n",
    "    def draw_line(self, x1, y1, x2, y2, char='*'):\n",
    "        # Bresenham's line algorithm\n",
    "        dx = abs(x2 - x1)\n",
    "        dy = abs(y2 - y1)\n",
    "        sx = 1 if x1 < x2 else -1\n",
    "        sy = 1 if y1 < y2 else -1\n",
    "        err = dx - dy\n",
    "\n",
    "        while True:\n",
    "            self.draw_point(x1, y1, char)\n",
    "            if x1 == x2 and y1 == y2:\n",
    "                break\n",
    "            e2 = 2 * err\n",
    "            if e2 > -dy:\n",
    "                err -= dy\n",
    "                x1 += sx\n",
    "            if e2 < dx:\n",
    "                err += dx\n",
    "                y1 += sy\n",
    "\n",
    "    def draw_rectangle(self, x1, y1, x2, y2, char='*'):\n",
    "        self.draw_line(x1, y1, x2, y1, char)\n",
    "        self.draw_line(x1, y1, x1, y2, char)\n",
    "        self.draw_line(x2, y1, x2, y2, char)\n",
    "        self.draw_line(x1, y2, x2, y2, char)\n",
    "\n",
    "    def draw_circle(self, cx, cy, r, char='*'):\n",
    "        x = r\n",
    "        y = 0\n",
    "        err = 0\n",
    "\n",
    "        while x >= y:\n",
    "            self.draw_point(cx + x, cy + y, char)\n",
    "            self.draw_point(cx + y, cy + x, char)\n",
    "            self.draw_point(cx - y, cy + x, char)\n",
    "            self.draw_point(cx - x, cy + y, char)\n",
    "            self.draw_point(cx - x, cy - y, char)\n",
    "            self.draw_point(cx - y, cy - x, char)\n",
    "            self.draw_point(cx + y, cy - x, char)\n",
    "            self.draw_point(cx + x, cy - y, char)\n",
    "\n",
    "            if err <= 0:\n",
    "                y += 1\n",
    "                err += 2 * y + 1\n",
    "            if err > 0:\n",
    "                x -= 1\n",
    "                err -= 2 * x + 1\n",
    "\n",
    "    def display(self):\n",
    "        for row in self.canvas:\n",
    "            print(''.join(row))\n",
    "\n",
    "    def __repr__(self):\n",
    "        return f\"RasterDrawing({self.width}, {self.height})\"\n",
    "\n",
    "class CompoundShape:\n",
    "    def __init__(self):\n",
    "        self.shapes = []\n",
    "\n",
    "    def add_shape(self, shape):\n",
    "        self.shapes.append(shape)\n",
    "\n",
    "    def draw(self, canvas):\n",
    "        for shape in self.shapes:\n",
    "            shape.draw(canvas)\n",
    "\n",
    "    def __repr__(self):\n",
    "        return f\"CompoundShape({', '.join([repr(shape) for shape in self.shapes])})\"\n",
    "\n",
    "class Rectangle(CompoundShape):\n",
    "    def __init__(self, x1, y1, x2, y2):\n",
    "        super().__init__()\n",
    "        self.x1 = x1\n",
    "        self.y1 = y1\n",
    "        self.x2 = x2\n",
    "        self.y2 = y2\n",
    "\n",
    "    def draw(self, canvas):\n",
    "        canvas.draw_rectangle(self.x1, self.y1, self.x2, self.y2)\n",
    "\n",
    "    def __repr__(self):\n",
    "        return f\"Rectangle({self.x1}, {self.y1}, {self.x2}, {self.y2})\"\n",
    "\n",
    "class Circle(CompoundShape):\n",
    "    def __init__(self, cx, cy, r):\n",
    "        super().__init__()\n",
    "        self.cx = cx\n",
    "        self.cy = cy\n",
    "        self.r = r\n",
    "\n",
    "    def draw(self, canvas):\n",
    "        canvas.draw_circle(self.cx, self.cy, self.r)\n",
    "\n",
    "    def __repr__(self):\n",
    "        return f\"Circle({self.cx}, {self.cy}, {self.r})\""
   ]
  },
  {
   "cell_type": "code",
   "execution_count": 109,
   "metadata": {
    "tags": []
   },
   "outputs": [
    {
     "name": "stdout",
     "output_type": "stream",
     "text": [
      "                    \n",
      "          *         \n",
      "  ***************** \n",
      "  *     *   *     * \n",
      "  *    *     *    * \n",
      "  *   *       *   * \n",
      "  *    *     *    * \n",
      "  *     *   *     * \n",
      "  ***************** \n",
      "          *         \n",
      "                    \n",
      "                    \n",
      "                    \n",
      "                    \n",
      "                    \n",
      "                    \n",
      "                    \n",
      "                    \n",
      "                    \n",
      "                    \n",
      "                    \n",
      "               *    \n",
      "  ***************** \n",
      "  *          *   ** \n",
      "  *         *     * \n",
      "  *        *      **\n",
      "  *         *     * \n",
      "  *          *   ** \n",
      "  ***************** \n",
      "               *    \n"
     ]
    }
   ],
   "source": [
    "if __name__ == '__main__':\n",
    "    # Create a drawing\n",
    "    drawing = RasterDrawing(20, 10)\n",
    "\n",
    "    # Add shapes to the drawing\n",
    "    compound_shape = CompoundShape()\n",
    "    compound_shape.add_shape(Rectangle(2, 2, 18, 8))\n",
    "    compound_shape.add_shape(Circle(10, 5, 4))\n",
    "\n",
    "    # Paint the drawing\n",
    "    compound_shape.draw(drawing)\n",
    "    drawing.display()\n",
    "\n",
    "    # Save the drawing to a file\n",
    "    with open('drawing.txt', 'w') as f:\n",
    "        f.write(repr(drawing))\n",
    "\n",
    "    # Load the drawing from the file\n",
    "    with open('drawing.txt', 'r') as f:\n",
    "        drawing = eval(f.read())\n",
    "\n",
    "    # Paint the loaded drawing\n",
    "    drawing.display()\n",
    "\n",
    "    # Modify the drawing by moving the circle\n",
    "    compound_shape.shapes[1].cx += 5\n",
    "\n",
    "    # Paint the modified drawing\n",
    "    drawing.canvas = [[' ' for _ in range(drawing.width)] for _ in range(drawing.height)]\n",
    "    compound_shape.draw(drawing)\n",
    "    drawing.display()\n"
   ]
  },
  {
   "cell_type": "code",
   "execution_count": null,
   "metadata": {},
   "outputs": [],
   "source": []
  },
  {
   "cell_type": "code",
   "execution_count": null,
   "metadata": {},
   "outputs": [],
   "source": []
  }
 ],
 "metadata": {
  "kernelspec": {
   "display_name": "Python 3 (ipykernel)",
   "language": "python",
   "name": "python3"
  },
  "language_info": {
   "codemirror_mode": {
    "name": "ipython",
    "version": 3
   },
   "file_extension": ".py",
   "mimetype": "text/x-python",
   "name": "python",
   "nbconvert_exporter": "python",
   "pygments_lexer": "ipython3",
   "version": "3.9.6"
  }
 },
 "nbformat": 4,
 "nbformat_minor": 4
}
