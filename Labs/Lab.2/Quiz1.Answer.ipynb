{
 "cells": [
  {
   "cell_type": "code",
   "execution_count": 1,
   "id": "e5402cdd-ab1d-4bc5-8a1f-e5642f117c42",
   "metadata": {
    "tags": []
   },
   "outputs": [],
   "source": [
    "def create_new_args_0(args):\n",
    "    max_len = max(map(len,\n",
    "                      filter(lambda x: isinstance(x,list),\n",
    "                        args)))\n",
    "\n",
    "    # Rewrite this section:\n",
    "    new_args=list()\n",
    "\n",
    "    for a in args:\n",
    "        if not isinstance(a,list):\n",
    "            a0=[a]*max_len\n",
    "        elif len(a)!=max_len:\n",
    "            print(\"Error: all list arguments must have same length.\")\n",
    "            return\n",
    "        else:\n",
    "            a0=a\n",
    "        new_args.append(a0)\n",
    "\n",
    "    return new_args"
   ]
  },
  {
   "cell_type": "code",
   "execution_count": 2,
   "id": "3a6cee94-e8bb-43e8-96f4-8f016ea59728",
   "metadata": {
    "tags": []
   },
   "outputs": [
    {
     "data": {
      "text/plain": [
       "[[1, 2], [3, 4], [5, 5]]"
      ]
     },
     "execution_count": 2,
     "metadata": {},
     "output_type": "execute_result"
    }
   ],
   "source": [
    "create_new_args_0([[1,2],[3,4],5])"
   ]
  },
  {
   "cell_type": "code",
   "execution_count": 5,
   "id": "e24ea217-5df0-41d3-b0b1-023b81eeaca4",
   "metadata": {
    "tags": []
   },
   "outputs": [],
   "source": [
    "##Quiz answer\n",
    "args=[]\n",
    "new_args=[a if isinstance(a,list) and len(a) ==max_len else [a]* \n",
    "          max_len for a in args]"
   ]
  },
  {
   "cell_type": "code",
   "execution_count": null,
   "id": "5c6f028c-07a3-4efa-a9a6-f96af2e4a0fc",
   "metadata": {},
   "outputs": [],
   "source": []
  }
 ],
 "metadata": {
  "kernelspec": {
   "display_name": "Python 3 (ipykernel)",
   "language": "python",
   "name": "python3"
  },
  "language_info": {
   "codemirror_mode": {
    "name": "ipython",
    "version": 3
   },
   "file_extension": ".py",
   "mimetype": "text/x-python",
   "name": "python",
   "nbconvert_exporter": "python",
   "pygments_lexer": "ipython3",
   "version": "3.9.6"
  }
 },
 "nbformat": 4,
 "nbformat_minor": 5
}
